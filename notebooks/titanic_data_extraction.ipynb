{
 "cells": [
  {
   "cell_type": "markdown",
   "metadata": {},
   "source": [
    "## Extracting titanic data from Kaggle"
   ]
  },
  {
   "cell_type": "code",
   "execution_count": 1,
   "metadata": {},
   "outputs": [],
   "source": [
    "from dotenv import load_dotenv, find_dotenv "
   ]
  },
  {
   "cell_type": "code",
   "execution_count": 2,
   "metadata": {},
   "outputs": [
    {
     "data": {
      "text/plain": [
       "True"
      ]
     },
     "execution_count": 2,
     "metadata": {},
     "output_type": "execute_result"
    }
   ],
   "source": [
    "envpath = find_dotenv()\n",
    "load_dotenv(envpath)"
   ]
  },
  {
   "cell_type": "code",
   "execution_count": 3,
   "metadata": {},
   "outputs": [
    {
     "name": "stdout",
     "output_type": "stream",
     "text": [
      "radheygupta\n"
     ]
    }
   ],
   "source": [
    "import os\n",
    "KAGGLE_USERNAME = os.environ.get(\"KAGGLE_USERNAME\")\n",
    "KAGGLE_PASSWORD = os.environ.get(\"KAGGLE_PASSWORD\")\n",
    "print(KAGGLE_USERNAME)"
   ]
  },
  {
   "cell_type": "code",
   "execution_count": 4,
   "metadata": {},
   "outputs": [
    {
     "name": "stdout",
     "output_type": "stream",
     "text": [
      "<?xml version='1.0' encoding='UTF-8'?><Error><Code>ExpiredToken</Code><Message>The provided token has expired.</Message><Details>Request signature expired at: 2019-02-08T07:30:48+00:00</Details></Error>\n"
     ]
    }
   ],
   "source": [
    "import requests\n",
    "from requests import session\n",
    "\n",
    "login_data = {\n",
    "    'action': 'login',\n",
    "    'username': KAGGLE_USERNAME,\n",
    "    'password': KAGGLE_PASSWORD\n",
    "}\n",
    "\n",
    "#url = \"https://www.kaggle.com/c/titanic/download/train.csv\"\n",
    "\n",
    "#url = \"https://storage.googleapis.com/kaggle-competitions-data/kaggle/3136/train.csv\"\n",
    "\n",
    "url = \"https://storage.googleapis.com/kaggle-competitions-data/kaggle/3136/train.csv?GoogleAccessId=web-data@kaggle-161607.iam.gserviceaccount.com&Expires=1549611048&Signature=XBHUYDwmEa%2BrFojLLD%2Bmwuu4lZblSRhEjU%2B8Z31b%2BDQLgpPCL5GO6R5GCrtW5MKLoHEnJ1cYG1PbD11myOe6uJ368td6k3gQM72ajcWNKk3Re0GgjEfUhzg57kqmWQW5oSVhGZbw3JwDfT9WTdi1ETQ0QEOCQTDdmENoXopQwGMQu6HaT1zamWpPCwheQCtiJTQblFIQGKfD3attOKP9TpxpaQ4xdcwLJBhdW5UY%2B78SLmtviMoy%2B3W70kT4O7S65h4%2BbEOd607TUFwqhZLIVYZ49gtdkfMst2W%2B1rECk0WmEHJxgbwvxssRR%2Bmo5yVB8GGug4Ij1%2FVqHzNiJdt8Eg%3D%3D\"\n",
    "\n",
    "with session() as s:\n",
    "    s.post('https://www.kaggle.com/account/login/', data=login_data)\n",
    "    response = s.get(url)\n",
    "    res_string = response.text\n",
    "    print(res_string)"
   ]
  },
  {
   "cell_type": "code",
   "execution_count": null,
   "metadata": {},
   "outputs": [],
   "source": []
  },
  {
   "cell_type": "code",
   "execution_count": null,
   "metadata": {},
   "outputs": [],
   "source": []
  }
 ],
 "metadata": {
  "kernelspec": {
   "display_name": "Python 3",
   "language": "python",
   "name": "python3"
  },
  "language_info": {
   "codemirror_mode": {
    "name": "ipython",
    "version": 3
   },
   "file_extension": ".py",
   "mimetype": "text/x-python",
   "name": "python",
   "nbconvert_exporter": "python",
   "pygments_lexer": "ipython3",
   "version": "3.7.1"
  }
 },
 "nbformat": 4,
 "nbformat_minor": 2
}
